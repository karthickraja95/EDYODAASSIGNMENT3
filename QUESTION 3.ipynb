{
 "cells": [
  {
   "cell_type": "markdown",
   "id": "0fc27e9d",
   "metadata": {},
   "source": [
    "# Q3: NO OF UPPER AND LOWER CASE LETTERS"
   ]
  },
  {
   "cell_type": "code",
   "execution_count": 1,
   "id": "a6dbd2aa",
   "metadata": {},
   "outputs": [
    {
     "name": "stdout",
     "output_type": "stream",
     "text": [
      "GIVEN STRING:   The quick Brow Fox\n",
      "No. of upper case letters:   3\n",
      "No. of lower case letters:   12\n"
     ]
    }
   ],
   "source": [
    "def string_calc(s):\n",
    "    a={\"upper_case\":0, \"lower_case\":0}\n",
    "    for i in s:\n",
    "        if i.isupper():\n",
    "            a[\"upper_case\"]+=1\n",
    "        elif i.islower():\n",
    "            a[\"lower_case\"]+=1\n",
    "        else:\n",
    "            pass\n",
    "    \n",
    "    print(\"GIVEN STRING:  \",s)\n",
    "    print(\"No. of upper case letters:  \",a[\"upper_case\"])\n",
    "    print(\"No. of lower case letters:  \",a[\"lower_case\"])\n",
    "\n",
    "string_calc(\"The quick Brow Fox\")\n"
   ]
  },
  {
   "cell_type": "code",
   "execution_count": null,
   "id": "36e54a72",
   "metadata": {},
   "outputs": [],
   "source": []
  }
 ],
 "metadata": {
  "kernelspec": {
   "display_name": "Python 3 (ipykernel)",
   "language": "python",
   "name": "python3"
  },
  "language_info": {
   "codemirror_mode": {
    "name": "ipython",
    "version": 3
   },
   "file_extension": ".py",
   "mimetype": "text/x-python",
   "name": "python",
   "nbconvert_exporter": "python",
   "pygments_lexer": "ipython3",
   "version": "3.10.2"
  }
 },
 "nbformat": 4,
 "nbformat_minor": 5
}
